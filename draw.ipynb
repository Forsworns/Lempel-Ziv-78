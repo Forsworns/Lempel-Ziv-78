{
 "metadata": {
  "language_info": {
   "codemirror_mode": {
    "name": "ipython",
    "version": 3
   },
   "file_extension": ".py",
   "mimetype": "text/x-python",
   "name": "python",
   "nbconvert_exporter": "python",
   "pygments_lexer": "ipython3",
   "version": 3
  },
  "orig_nbformat": 2
 },
 "nbformat": 4,
 "nbformat_minor": 2,
 "cells": [
  {
   "cell_type": "code",
   "execution_count": null,
   "metadata": {},
   "outputs": [],
   "source": [
    "from ggplot import *\n",
    "\n",
    "# 先展示可以恢复助教给的txt，word，可以恢复自己的html，mat，bmp\n",
    "\n",
    "# 测试不同的字典大小下，相同文件表现，多折线图\n",
    "lz78_size = []\n",
    "ggplot(aes(x=\"\", y=\"\"), data=lz78_size) +\\\n",
    "    geom_line()\n",
    "\n",
    "\n",
    "running_time = []\n",
    "\n",
    "\n",
    "# fixed or unlimited 字典大小\n",
    "# 在不同txt文件大小下，对比柱状图\n",
    "\n",
    "# symbol size比较，极端的bit和ascii\n"
   ]
  }
 ]
}